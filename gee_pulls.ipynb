{
 "cells": [
  {
   "cell_type": "code",
   "execution_count": 1,
   "metadata": {},
   "outputs": [],
   "source": [
    "# import libraries\n",
    "import ee, ssl\n",
    "# bypass certificate error: this might only be an issue on my computer\n",
    "# ssl._create_default_https_context = ssl._create_unverified_context\n",
    "# Authenticate and initialize the library.\n",
    "# ee.Authenticate() # only need to run this once \n",
    "ee.Initialize() "
   ]
  },
  {
   "cell_type": "code",
   "execution_count": 2,
   "metadata": {},
   "outputs": [],
   "source": [
    "# Pull GEE pollution data for specified years!\n",
    "\n",
    "region = ee.Geometry.Polygon(coords=\n",
    "    [[[-74.89788681934836, 46.17955456708541],\n",
    "    [-74.89788681934836, 45.03443324885425],\n",
    "    [-72.31609970997336, 45.03443324885425],\n",
    "    [-72.31609970997336, 46.17955456708541]]], proj=None) # The rough extent of our study region \n",
    "\n",
    "# Create list of the pollutants that we wish to study\n",
    "\n",
    "poll = [\n",
    "  ['COPERNICUS/S5P/NRTI/L3_NO2', \"NO2_column_number_density\", 'L3_NO2'], # Nitrogen Dioxide\n",
    "  ['COPERNICUS/S5P/NRTI/L3_CO', \"CO_column_number_density\", 'L3_CO'], # Carbon Monoxide\n",
    "  ['COPERNICUS/S5P/NRTI/L3_HCHO', \"tropospheric_HCHO_column_number_density\", \"L3_HCHO\"], # Formaldehyde\n",
    "  ['COPERNICUS/S5P/NRTI/L3_SO2', \"SO2_column_number_density\", \"L3_SO\"] # Sulfur dioxide\n",
    "]\n",
    "\n",
    "# make list of study years \n",
    "\n",
    "year = [2018, 2019, 2020, 2021]\n",
    "\n",
    "# iterate over the desired pollution data\n",
    "for j in year:\n",
    "  for i in poll: #for loop that iterates over the pollution list\n",
    "      collection = ee.ImageCollection(i[0]) \\\n",
    "      .filterDate(str(j) + '-09-01', str(j) + '-12-31') \\\n",
    "      .filterBounds(region) \\\n",
    "      .select(i[1]) # select the pollution band \n",
    "      meanImage = collection.mean() # calculate the mean of the images\n",
    "      scale = collection.first().select(i[1]).projection().nominalScale() # get the scale of each image\n",
    "      # Export the image to your Google Drive: look at the task tab in Google Earth Engine\n",
    "      ee.batch.Export.image.toDrive(image=meanImage,\n",
    "                                    folder='gee_pollution',    \n",
    "                                    description=i[2]+'_'+str(j),\n",
    "                                    scale=scale,\n",
    "                                    fileNamePrefix=i[2]+'_'+str(j),\n",
    "                                    fileFormat='GeoTIFF', \n",
    "                                    region=region['coordinates'], \n",
    "                                    ).start()\n",
    "      "
   ]
  }
 ],
 "metadata": {
  "interpreter": {
   "hash": "0d376c4d811e8097f2df0fce4fc05d3a73b4be89700bde297927462a094ac837"
  },
  "kernelspec": {
   "display_name": "Python 3.7.9 ('venv': venv)",
   "language": "python",
   "name": "python3"
  },
  "language_info": {
   "codemirror_mode": {
    "name": "ipython",
    "version": 3
   },
   "file_extension": ".py",
   "mimetype": "text/x-python",
   "name": "python",
   "nbconvert_exporter": "python",
   "pygments_lexer": "ipython3",
   "version": "3.7.9"
  },
  "orig_nbformat": 4
 },
 "nbformat": 4,
 "nbformat_minor": 2
}
