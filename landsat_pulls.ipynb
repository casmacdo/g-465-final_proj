{
 "cells": [
  {
   "cell_type": "markdown",
   "metadata": {},
   "source": [
    "### Notebook that extracts exports Landsat 8 images to Google Drive "
   ]
  },
  {
   "cell_type": "code",
   "execution_count": 4,
   "metadata": {},
   "outputs": [],
   "source": [
    "# import libraries\n",
    "import ee, ssl\n",
    "# bypass certificate error: this might only be an issue on my computer\n",
    "# ssl._create_default_https_context = ssl._create_unverified_context\n",
    "# Authenticate and initialize the library.\n",
    "# ee.Authenticate() # only need to run this once \n",
    "ee.Initialize() "
   ]
  },
  {
   "cell_type": "code",
   "execution_count": 35,
   "metadata": {},
   "outputs": [],
   "source": [
    "# Pull speicific GEE Landsat data!\n",
    "\n",
    "region = ee.Geometry.Polygon(coords=\n",
    "    [[[-74.89788681934836, 46.17955456708541],\n",
    "    [-74.89788681934836, 45.03443324885425],\n",
    "    [-72.31609970997336, 45.03443324885425],\n",
    "    [-72.31609970997336, 46.17955456708541]]]) # The rough extent of our study region \n",
    "\n",
    "# Create list of the pollutants that we wish to study\n",
    "\n",
    "img = [ \n",
    "  ['LANDSAT/LC08/C01/T1/LC08_015028_20180708', '2018_07_08'], # 2018\n",
    "  ['LANDSAT/LC08/C01/T1/LC08_014028_20190805', '2019_08_05'], # 2019\n",
    "  ['LANDSAT/LC08/C01/T1/LC08_015028_20200814', \"2020_08_14\"], # 2020\n",
    "  ['LANDSAT/LC08/C01/T1/LC08_014028_20210810', \"2021_08_10\"] # 2021\n",
    "]\n",
    "# iterate over the desired pollution data\n",
    "for i in img: #for loop that iterates over the pollution list\n",
    "    image = ee.Image(i[0]) # select current image \n",
    "    image.select(image.bandNames()) # take all bands\n",
    "    # Export the image to Google Drive: look at the task tab in Google Earth Engine\n",
    "    ee.batch.Export.image.toDrive(image=image,\n",
    "                                folder='gee_landsat', \n",
    "                                region=region,    \n",
    "                                description=i[1],\n",
    "                                fileNamePrefix=i[1],\n",
    "                                fileFormat='GeoTIFF',\n",
    "                                ).start()\n",
    "    "
   ]
  },
  {
   "cell_type": "code",
   "execution_count": 10,
   "metadata": {},
   "outputs": [],
   "source": [
    "img = [ \n",
    "  ['LANDSAT/LC08/C01/T1/LC08_015028_20180708', '2018_07_08'], # 2018\n",
    "  ['LANDSAT/LC08/C01/T1/LC08_014028_20190805', '2019_08_05'], # 2019\n",
    "  ['LANDSAT/LC08/C01/T1/LC08_015028_20200814', \"2020_08_14\"], # 2020\n",
    "  ['LANDSAT/LC08/C01/T1/LC08_014028_20210810', \"2021_08_10\"] # 2021\n",
    "]\n",
    "image = ee.Image(img[0])\n",
    "bands=image.bandNames()"
   ]
  },
  {
   "cell_type": "code",
   "execution_count": 21,
   "metadata": {},
   "outputs": [
    {
     "data": {
      "text/plain": [
       "<ee.ee_list.List at 0x7fdad7089ad0>"
      ]
     },
     "execution_count": 21,
     "metadata": {},
     "output_type": "execute_result"
    }
   ],
   "source": [
    "ee.list(image.bandNames()"
   ]
  },
  {
   "cell_type": "code",
   "execution_count": 16,
   "metadata": {},
   "outputs": [
    {
     "ename": "TypeError",
     "evalue": "'List' object is not iterable",
     "output_type": "error",
     "traceback": [
      "\u001b[0;31m---------------------------------------------------------------------------\u001b[0m",
      "\u001b[0;31mTypeError\u001b[0m                                 Traceback (most recent call last)",
      "\u001b[0;32m/var/folders/20/0qczc3sx2274q_g9l8r5jhlr0000gn/T/ipykernel_3968/2201992209.py\u001b[0m in \u001b[0;36m<module>\u001b[0;34m\u001b[0m\n\u001b[0;32m----> 1\u001b[0;31m \u001b[0;32mfor\u001b[0m \u001b[0mi\u001b[0m \u001b[0;32min\u001b[0m \u001b[0mbands\u001b[0m\u001b[0;34m:\u001b[0m\u001b[0;34m\u001b[0m\u001b[0;34m\u001b[0m\u001b[0m\n\u001b[0m\u001b[1;32m      2\u001b[0m     \u001b[0mprint\u001b[0m\u001b[0;34m(\u001b[0m\u001b[0mi\u001b[0m\u001b[0;34m)\u001b[0m\u001b[0;34m\u001b[0m\u001b[0;34m\u001b[0m\u001b[0m\n",
      "\u001b[0;31mTypeError\u001b[0m: 'List' object is not iterable"
     ]
    }
   ],
   "source": []
  },
  {
   "cell_type": "code",
   "execution_count": null,
   "metadata": {},
   "outputs": [],
   "source": []
  }
 ],
 "metadata": {
  "interpreter": {
   "hash": "f157653b355de744b3bf44b72b12d215fd91d879a57687d1b1804d48b3863bec"
  },
  "kernelspec": {
   "display_name": "Python 3.7.9 ('venv': venv)",
   "language": "python",
   "name": "python3"
  },
  "language_info": {
   "codemirror_mode": {
    "name": "ipython",
    "version": 3
   },
   "file_extension": ".py",
   "mimetype": "text/x-python",
   "name": "python",
   "nbconvert_exporter": "python",
   "pygments_lexer": "ipython3",
   "version": "3.7.9"
  },
  "orig_nbformat": 4
 },
 "nbformat": 4,
 "nbformat_minor": 2
}
