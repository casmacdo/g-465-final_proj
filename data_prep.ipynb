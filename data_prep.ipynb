{
 "cells": [
  {
   "cell_type": "markdown",
   "metadata": {},
   "source": [
    "## Loops that read through image folders and clip to a shapefile. The paths are a bit greasy and might need to be changed if you try this on your own computer."
   ]
  },
  {
   "cell_type": "code",
   "execution_count": null,
   "metadata": {},
   "outputs": [],
   "source": [
    "import fnmatch, os # import libraries\n",
    "# The path for listing items\n",
    "images=['data/images/LC08_L1TP_014028_20210810_20210819_01_T1', 'data/images/LC08_L1TP_015028_20200814_20200822_01_T1'] # store images in list\n",
    "# loop through the bands of both images and clip using the gdalwarp cli tool\n",
    "for img in images:\n",
    "    files = os.listdir(img)\n",
    "    for filename in files:\n",
    "        if fnmatch.fnmatch(filename, '*.TIF'):\n",
    "            output = os.path.join(os.path.abspath(os.getcwd()), 'data/images/clipped', os.path.splitext(filename)[0] + '_clipped'+os.path.splitext(filename)[1])\n",
    "            infile= os.path.join(os.path.abspath(img), filename)\n",
    "            cmd = \"gdalwarp -overwrite -of GTiff -cutline /Users/cassidymacdonald/Documents/g_465_final_proj/non_images/study_region.shp -cl study_region -crop_to_cutline {infile} {out}\".format(infile=infile,out=output)\n",
    "            os.system(cmd)"
   ]
  }
 ],
 "metadata": {
  "interpreter": {
   "hash": "f157653b355de744b3bf44b72b12d215fd91d879a57687d1b1804d48b3863bec"
  },
  "kernelspec": {
   "display_name": "Python 3.7.9 ('venv': venv)",
   "language": "python",
   "name": "python3"
  },
  "language_info": {
   "codemirror_mode": {
    "name": "ipython",
    "version": 3
   },
   "file_extension": ".py",
   "mimetype": "text/x-python",
   "name": "python",
   "nbconvert_exporter": "python",
   "pygments_lexer": "ipython3",
   "version": "3.9.5"
  },
  "orig_nbformat": 4
 },
 "nbformat": 4,
 "nbformat_minor": 2
}
