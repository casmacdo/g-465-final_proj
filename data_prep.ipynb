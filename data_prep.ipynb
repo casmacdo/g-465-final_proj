{
 "cells": [
  {
   "cell_type": "code",
   "execution_count": 19,
   "metadata": {},
   "outputs": [
    {
     "name": "stdout",
     "output_type": "stream",
     "text": [
      "Creating output file that is 4443P x 3240L.\n",
      "Processing /Users/cassidymacdonald/Documents/g_465_final_proj/data/images/LC08_L1TP_014028_20210810_20210819_01_T1/LC08_L1TP_014028_20210810_20210819_01_T1_B8.TIF [1/1] : 0...10...20...30...40...50...60...70...80...90...100 - done.\n",
      "Creating output file that is 2222P x 1620L.\n",
      "Processing /Users/cassidymacdonald/Documents/g_465_final_proj/data/images/LC08_L1TP_014028_20210810_20210819_01_T1/LC08_L1TP_014028_20210810_20210819_01_T1_B9.TIF [1/1] : 0...10...20...30...40...50...60...70...80...90...100 - done.\n",
      "Creating output file that is 2222P x 1620L.\n",
      "Processing /Users/cassidymacdonald/Documents/g_465_final_proj/data/images/LC08_L1TP_014028_20210810_20210819_01_T1/LC08_L1TP_014028_20210810_20210819_01_T1_B11.TIF [1/1] : 0...10...20...30...40...50...60...70...80...90...100 - done.\n",
      "Creating output file that is 2222P x 1620L.\n",
      "Processing /Users/cassidymacdonald/Documents/g_465_final_proj/data/images/LC08_L1TP_014028_20210810_20210819_01_T1/LC08_L1TP_014028_20210810_20210819_01_T1_B10.TIF [1/1] : 0...10...20...30...40...50...60...70...80...90...100 - done.\n",
      "Creating output file that is 2222P x 1620L.\n",
      "Processing /Users/cassidymacdonald/Documents/g_465_final_proj/data/images/LC08_L1TP_014028_20210810_20210819_01_T1/LC08_L1TP_014028_20210810_20210819_01_T1_B2.TIF [1/1] : 0...10...20...30...40...50...60...70...80...90...100 - done.\n",
      "Creating output file that is 2222P x 1620L.\n",
      "Processing /Users/cassidymacdonald/Documents/g_465_final_proj/data/images/LC08_L1TP_014028_20210810_20210819_01_T1/LC08_L1TP_014028_20210810_20210819_01_T1_B3.TIF [1/1] : 0...10...20...30...40...50...60...70...80...90...100 - done.\n",
      "Creating output file that is 2222P x 1620L.\n",
      "Processing /Users/cassidymacdonald/Documents/g_465_final_proj/data/images/LC08_L1TP_014028_20210810_20210819_01_T1/LC08_L1TP_014028_20210810_20210819_01_T1_BQA.TIF [1/1] : 0...10...20...30...40...50...60...70...80...90...100 - done.\n",
      "Creating output file that is 2222P x 1620L.\n",
      "Processing /Users/cassidymacdonald/Documents/g_465_final_proj/data/images/LC08_L1TP_014028_20210810_20210819_01_T1/LC08_L1TP_014028_20210810_20210819_01_T1_B1.TIF [1/1] : 0...10...20...30...40...50...60...70...80...90...100 - done.\n",
      "Creating output file that is 2222P x 1620L.\n",
      "Processing /Users/cassidymacdonald/Documents/g_465_final_proj/data/images/LC08_L1TP_014028_20210810_20210819_01_T1/LC08_L1TP_014028_20210810_20210819_01_T1_B4.TIF [1/1] : 0...10...20...30...40...50...60...70...80...90...100 - done.\n",
      "Creating output file that is 2222P x 1620L.\n",
      "Processing /Users/cassidymacdonald/Documents/g_465_final_proj/data/images/LC08_L1TP_014028_20210810_20210819_01_T1/LC08_L1TP_014028_20210810_20210819_01_T1_B5.TIF [1/1] : 0...10...20...30...40...50...60...70...80...90...100 - done.\n",
      "Creating output file that is 2222P x 1620L.\n",
      "Processing /Users/cassidymacdonald/Documents/g_465_final_proj/data/images/LC08_L1TP_014028_20210810_20210819_01_T1/LC08_L1TP_014028_20210810_20210819_01_T1_B7.TIF [1/1] : 0...10...20...30...40...50...60...70...80...90...100 - done.\n",
      "Creating output file that is 2222P x 1620L.\n",
      "Processing /Users/cassidymacdonald/Documents/g_465_final_proj/data/images/LC08_L1TP_014028_20210810_20210819_01_T1/LC08_L1TP_014028_20210810_20210819_01_T1_B6.TIF [1/1] : 0...10...20...30...40...50...60...70...80...90...100 - done.\n",
      "Creating output file that is 2222P x 1620L.\n",
      "Processing /Users/cassidymacdonald/Documents/g_465_final_proj/data/images/LC08_L1TP_015028_20200814_20200822_01_T1/LC08_L1TP_015028_20200814_20200822_01_T1_B2.TIF [1/1] : 0...10...20...30...40...50...60...70...80...90...100 - done.\n",
      "Creating output file that is 2222P x 1620L.\n",
      "Processing /Users/cassidymacdonald/Documents/g_465_final_proj/data/images/LC08_L1TP_015028_20200814_20200822_01_T1/LC08_L1TP_015028_20200814_20200822_01_T1_B3.TIF [1/1] : 0...10...20...30...40...50...60...70...80...90...100 - done.\n",
      "Creating output file that is 2222P x 1620L.\n",
      "Processing /Users/cassidymacdonald/Documents/g_465_final_proj/data/images/LC08_L1TP_015028_20200814_20200822_01_T1/LC08_L1TP_015028_20200814_20200822_01_T1_B1.TIF [1/1] : 0...10...20...30...40...50...60...70...80...90...100 - done.\n",
      "Creating output file that is 2222P x 1620L.\n",
      "Processing /Users/cassidymacdonald/Documents/g_465_final_proj/data/images/LC08_L1TP_015028_20200814_20200822_01_T1/LC08_L1TP_015028_20200814_20200822_01_T1_B4.TIF [1/1] : 0...10...20...30...40...50...60...70...80...90...100 - done.\n",
      "Creating output file that is 2222P x 1620L.\n",
      "Processing /Users/cassidymacdonald/Documents/g_465_final_proj/data/images/LC08_L1TP_015028_20200814_20200822_01_T1/LC08_L1TP_015028_20200814_20200822_01_T1_BQA.TIF [1/1] : 0...10...20...30...40...50...60...70...80...90...100 - done.\n",
      "Creating output file that is 2222P x 1620L.\n",
      "Processing /Users/cassidymacdonald/Documents/g_465_final_proj/data/images/LC08_L1TP_015028_20200814_20200822_01_T1/LC08_L1TP_015028_20200814_20200822_01_T1_B5.TIF [1/1] : 0...10...20...30...40...50...60...70...80...90...100 - done.\n",
      "Creating output file that is 2222P x 1620L.\n",
      "Processing /Users/cassidymacdonald/Documents/g_465_final_proj/data/images/LC08_L1TP_015028_20200814_20200822_01_T1/LC08_L1TP_015028_20200814_20200822_01_T1_B7.TIF [1/1] : 0...10...20...30...40...50...60...70...80...90...100 - done.\n",
      "Creating output file that is 2222P x 1620L.\n",
      "Processing /Users/cassidymacdonald/Documents/g_465_final_proj/data/images/LC08_L1TP_015028_20200814_20200822_01_T1/LC08_L1TP_015028_20200814_20200822_01_T1_B6.TIF [1/1] : 0...10...20...30...40...50...60...70...80...90...100 - done.\n",
      "Creating output file that is 4443P x 3240L.\n",
      "Processing /Users/cassidymacdonald/Documents/g_465_final_proj/data/images/LC08_L1TP_015028_20200814_20200822_01_T1/LC08_L1TP_015028_20200814_20200822_01_T1_B8.TIF [1/1] : 0...10...20...30...40...50...60...70...80...90...100 - done.\n",
      "Creating output file that is 2222P x 1620L.\n",
      "Processing /Users/cassidymacdonald/Documents/g_465_final_proj/data/images/LC08_L1TP_015028_20200814_20200822_01_T1/LC08_L1TP_015028_20200814_20200822_01_T1_B10.TIF [1/1] : 0...10...20...30...40...50...60...70...80...90...100 - done.\n",
      "Creating output file that is 2222P x 1620L.\n",
      "Processing /Users/cassidymacdonald/Documents/g_465_final_proj/data/images/LC08_L1TP_015028_20200814_20200822_01_T1/LC08_L1TP_015028_20200814_20200822_01_T1_B11.TIF [1/1] : 0...10...20...30...40...50...60...70...80...90...100 - done.\n",
      "Creating output file that is 2222P x 1620L.\n",
      "Processing /Users/cassidymacdonald/Documents/g_465_final_proj/data/images/LC08_L1TP_015028_20200814_20200822_01_T1/LC08_L1TP_015028_20200814_20200822_01_T1_B9.TIF [1/1] : 0...10...20...30...40...50...60...70...80...90...100 - done.\n"
     ]
    }
   ],
   "source": [
    "import fnmatch, os\n",
    "# The path for listing items\n",
    "images=['data/images/LC08_L1TP_014028_20210810_20210819_01_T1', 'data/images/LC08_L1TP_015028_20200814_20200822_01_T1']\n",
    "# The list of items\n",
    "# Loop to print each filename separately\n",
    "for img in images:\n",
    "    files = os.listdir(img)\n",
    "    for filename in files:\n",
    "        if fnmatch.fnmatch(filename, '*.TIF'):\n",
    "            output = \"/Users/cassidymacdonald/Documents/g_465_final_proj/data/images/clipped/\"+os.path.splitext(filename)[0]+'_'+'clipped'+os.path.splitext(filename)[1]\n",
    "            infile= os.path.join(os.path.abspath(img), filename)\n",
    "            cmd = \"gdalwarp -overwrite -of GTiff -cutline /Users/cassidymacdonald/Documents/g_465_final_proj/non_images/study_region.shp -cl study_region -crop_to_cutline {infile} {out}\".format(infile=infile,out=output)\n",
    "            os.system(cmd)"
   ]
  }
 ],
 "metadata": {
  "interpreter": {
   "hash": "f157653b355de744b3bf44b72b12d215fd91d879a57687d1b1804d48b3863bec"
  },
  "kernelspec": {
   "display_name": "Python 3.7.9 ('venv': venv)",
   "language": "python",
   "name": "python3"
  },
  "language_info": {
   "codemirror_mode": {
    "name": "ipython",
    "version": 3
   },
   "file_extension": ".py",
   "mimetype": "text/x-python",
   "name": "python",
   "nbconvert_exporter": "python",
   "pygments_lexer": "ipython3",
   "version": "3.9.5"
  },
  "orig_nbformat": 4
 },
 "nbformat": 4,
 "nbformat_minor": 2
}
